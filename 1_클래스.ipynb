{
  "nbformat": 4,
  "nbformat_minor": 0,
  "metadata": {
    "colab": {
      "provenance": [],
      "authorship_tag": "ABX9TyNAfmnV4Khx4hYQMwWC9qG+",
      "include_colab_link": true
    },
    "kernelspec": {
      "name": "python3",
      "display_name": "Python 3"
    },
    "language_info": {
      "name": "python"
    }
  },
  "cells": [
    {
      "cell_type": "markdown",
      "metadata": {
        "id": "view-in-github",
        "colab_type": "text"
      },
      "source": [
        "<a href=\"https://colab.research.google.com/github/he22ra/pythonProject/blob/master/1_%ED%81%B4%EB%9E%98%EC%8A%A4.ipynb\" target=\"_parent\"><img src=\"https://colab.research.google.com/assets/colab-badge.svg\" alt=\"Open In Colab\"/></a>"
      ]
    },
    {
      "cell_type": "markdown",
      "source": [
        "### 목표\n",
        "1. 클래스 리뷰"
      ],
      "metadata": {
        "id": "aWwk2YjROp0I"
      }
    },
    {
      "cell_type": "markdown",
      "source": [
        "#### __init__(self)\n",
        "+ 생성자. 클래스 인스턴스가 생성될 때 호출 됨\n",
        "+ self인자는 항상 첫번째에 오며 자기 자신을 가리킴\n",
        "+ 이름이 꼭 self일 필요는 없지만 관례적으로 self 사용\n",
        "\n",
        "+ 생성자에서는 해당 클래스가 다루는 데이터를 정의\n",
        "  - 이 데이터를 멤버변수(member variavle)또는 속성(attribute)라고 함\n",
        "\n",
        "  \n"
      ],
      "metadata": {
        "id": "Zqk3MLiMPiui"
      }
    },
    {
      "cell_type": "markdown",
      "source": [
        "### self\n",
        "\n",
        "+ 파이썬의 method는 항상 첫번째 인자로 self를 전달\n",
        "+ self는 현재 해당 메서드가 호출되는 객체 자신을 가리킴\n",
        "+ C++/C#, Java의 this에 해당\n",
        "+ 이름이 self일 필요는 없으나, 위치는 항상 맨 처음의 parameter이며 관례적으로 self로 사"
      ],
      "metadata": {
        "id": "Fnnd6ZCdRgPy"
      }
    },
    {
      "cell_type": "markdown",
      "source": [
        "### special method\n",
        "+ __로 시작 __로 끝나는 특수 함수\n",
        "+ 오버라이딩이 가능한 함수 목록은 아래 링크에서 참조\n",
        "  > https://docs.python.org/ko/3/reference/datamodel.html"
      ],
      "metadata": {
        "id": "WutT4JRXSPbt"
      }
    },
    {
      "cell_type": "markdown",
      "source": [
        "### Python Class\n",
        "+ Python은 OOP 패러다임으로 구현된 언어이다.\n"
      ],
      "metadata": {
        "id": "xIgJg8lkSjMH"
      }
    },
    {
      "cell_type": "markdown",
      "source": [
        "### NoteBook이라는 사물을 클래스로 정의합니다."
      ],
      "metadata": {
        "id": "_KsKvmiPStG9"
      }
    },
    {
      "cell_type": "code",
      "source": [
        "# NoteBook이라는 사물을 클래스로 정의\n",
        "class NoteBook():\n",
        "  def __init__ (self, manufacture, model, cpu, ram, ssd):\n",
        "    self.manufacture = manufacture\n",
        "    self.model = model\n",
        "    self.cpu = cpu\n",
        "    self.ram = ram\n",
        "    self.ssd = ssd"
      ],
      "metadata": {
        "id": "ec0nAnhFSzdm"
      },
      "execution_count": 1,
      "outputs": []
    },
    {
      "cell_type": "code",
      "source": [
        "# 클래스의 생성자(constructor)를 불러와 봄\n",
        "notebook = NoteBook(\"Apple\", \"MacBook PRO 13\", \"M2\", 24, 2048)\n",
        "notebook.model"
      ],
      "metadata": {
        "colab": {
          "base_uri": "https://localhost:8080/",
          "height": 35
        },
        "id": "kKoieRnaT_0S",
        "outputId": "1d242c88-515b-485b-9d71-6bb6a39ac3e1"
      },
      "execution_count": 3,
      "outputs": [
        {
          "output_type": "execute_result",
          "data": {
            "text/plain": [
              "'MacBook PRO 13'"
            ],
            "application/vnd.google.colaboratory.intrinsic+json": {
              "type": "string"
            }
          },
          "metadata": {},
          "execution_count": 3
        }
      ]
    },
    {
      "cell_type": "code",
      "source": [
        "# 해당 노트북의 모델을 출력해주는 함수를 구현하시오\n",
        "# 해당 노트북\n",
        "class NoteBook():\n",
        "  def __init__ (self, manufacture, model, cpu, ram, ssd, os):\n",
        "    self.manufacture = manufacture\n",
        "    self.model = model\n",
        "    self.cpu = cpu\n",
        "    self.ram = ram\n",
        "    self.ssd = ssd\n",
        "    self.os = os\n",
        "\n",
        "  def print_model(self):\n",
        "    print(f\"This NoteBook is {self.model} model.\")\n",
        "\n",
        "  def print_ram(self):\n",
        "    print(f\"This NoteBook is {self.ram} ram.\")\n",
        "  \n",
        "  ## to-do ##\n",
        "  def is_UNIX(self):\n",
        "    UNIX = [\"macOS\", \"Ubuntu\", \"iOS\", \"Android\"]\n",
        "    if self.os in UNIX :\n",
        "      return True\n",
        "    else:\n",
        "      return False\n",
        "  \n",
        "nb = NoteBook(\"LG\", \"gram 17\", \"intel i7\", 16, 512, \"Windows10\")\n",
        "nb2 = NoteBook(\"Apple\", \"MackBook Pro 16\", \"Apple M1 Max\", 64, 1024, \"macOS\")\n",
        "nb.print_model()\n",
        "nb2.print_model()\n",
        "nb.print_ram()\n",
        "print(nb2.is_UNIX())"
      ],
      "metadata": {
        "colab": {
          "base_uri": "https://localhost:8080/"
        },
        "id": "dGtDUlQPrYQr",
        "outputId": "1aca155e-4194-43f5-8c73-7ac90c2568e1"
      },
      "execution_count": 23,
      "outputs": [
        {
          "output_type": "stream",
          "name": "stdout",
          "text": [
            "This NoteBook is gram 17 model.\n",
            "This NoteBook is MackBook Pro 16 model.\n",
            "This NoteBook is 16 ram.\n",
            "True\n"
          ]
        }
      ]
    },
    {
      "cell_type": "markdown",
      "source": [
        "### 클래스 상속\n",
        "+ Notebook들은 제조사마다 다른 모델이 있음\n",
        "+ 해당 모델들은 NoteBook이지만, 모델마다 다른특징\n",
        "+ 노트북의 개념을 이어받아 새로운 class 정의"
      ],
      "metadata": {
        "id": "N4Vh7wCv3h6E"
      }
    },
    {
      "cell_type": "code",
      "source": [
        "#NoteBook class를 상속받아서 새로운 MacBook class 정의\n",
        "class MacBook(NoteBook):\n",
        "  def __init__(self, model, release_date, display_size, cpu, ram, ssd, os):\n",
        "    self.model = model\n",
        "    self.release_date = release_date\n",
        "    self.display_size = display_size\n",
        "    self.cpu = cpu\n",
        "    self.ram = ram\n",
        "    self.ssd = ssd\n",
        "    self.os = os\n",
        "\n",
        "macbook = MacBook(\"MacBook Pro\", \"2022\", \"16\", \"M1 Max\", 32, 1024, \"macOS\")\n",
        "macbook.print_model()\n",
        "print(macbook.is_UNIX())"
      ],
      "metadata": {
        "colab": {
          "base_uri": "https://localhost:8080/"
        },
        "id": "oNoidtHk3t1Y",
        "outputId": "5a5665b2-8c0f-42dc-b721-1fb8ca8e6c10"
      },
      "execution_count": 24,
      "outputs": [
        {
          "output_type": "stream",
          "name": "stdout",
          "text": [
            "This NoteBook is MacBook Pro model.\n",
            "True\n"
          ]
        }
      ]
    },
    {
      "cell_type": "code",
      "source": [
        "class Lenovo(NoteBook):\n",
        "  def __init__(self, model, release_date, display_size,  cpu, ram, ssd, os):\n",
        "    self.model = model\n",
        "    self.release_date = release_date\n",
        "    self.display_size = display_size\n",
        "    self.cpu = cpu\n",
        "    self.ram = ram\n",
        "    self.ssd = ssd\n",
        "    self.os = os\n",
        "\n",
        "lenovo = Lenovo(\"Yoga Slim 7\", \"14 Gen 5\", 15, \"intel i7\", 16, 2048)\n",
        "lenovo.print_model()\n",
        "print(lenovo.is_UNIX())"
      ],
      "metadata": {
        "colab": {
          "base_uri": "https://localhost:8080/",
          "height": 356
        },
        "id": "47zEA_455IEe",
        "outputId": "b0e50c91-b932-4f46-cb2b-b5d2b71cf0d9"
      },
      "execution_count": 28,
      "outputs": [
        {
          "output_type": "stream",
          "name": "stdout",
          "text": [
            "This NoteBook is Yoga Slim 7 model.\n"
          ]
        },
        {
          "output_type": "error",
          "ename": "AttributeError",
          "evalue": "ignored",
          "traceback": [
            "\u001b[0;31m---------------------------------------------------------------------------\u001b[0m",
            "\u001b[0;31mAttributeError\u001b[0m                            Traceback (most recent call last)",
            "\u001b[0;32m<ipython-input-28-86ca97b3325a>\u001b[0m in \u001b[0;36m<module>\u001b[0;34m\u001b[0m\n\u001b[1;32m     10\u001b[0m \u001b[0mlenovo\u001b[0m \u001b[0;34m=\u001b[0m \u001b[0mLenovo\u001b[0m\u001b[0;34m(\u001b[0m\u001b[0;34m\"Yoga Slim 7\"\u001b[0m\u001b[0;34m,\u001b[0m \u001b[0;34m\"14 Gen 5\"\u001b[0m\u001b[0;34m,\u001b[0m \u001b[0;36m15\u001b[0m\u001b[0;34m,\u001b[0m \u001b[0;34m\"intel i7\"\u001b[0m\u001b[0;34m,\u001b[0m \u001b[0;36m16\u001b[0m\u001b[0;34m,\u001b[0m \u001b[0;36m2048\u001b[0m\u001b[0;34m)\u001b[0m\u001b[0;34m\u001b[0m\u001b[0;34m\u001b[0m\u001b[0m\n\u001b[1;32m     11\u001b[0m \u001b[0mlenovo\u001b[0m\u001b[0;34m.\u001b[0m\u001b[0mprint_model\u001b[0m\u001b[0;34m(\u001b[0m\u001b[0;34m)\u001b[0m\u001b[0;34m\u001b[0m\u001b[0;34m\u001b[0m\u001b[0m\n\u001b[0;32m---> 12\u001b[0;31m \u001b[0mprint\u001b[0m\u001b[0;34m(\u001b[0m\u001b[0mlenovo\u001b[0m\u001b[0;34m.\u001b[0m\u001b[0mis_UNIX\u001b[0m\u001b[0;34m(\u001b[0m\u001b[0;34m)\u001b[0m\u001b[0;34m)\u001b[0m\u001b[0;34m\u001b[0m\u001b[0;34m\u001b[0m\u001b[0m\n\u001b[0m",
            "\u001b[0;32m<ipython-input-23-5029a5d7c697>\u001b[0m in \u001b[0;36mis_UNIX\u001b[0;34m(self)\u001b[0m\n\u001b[1;32m     19\u001b[0m   \u001b[0;32mdef\u001b[0m \u001b[0mis_UNIX\u001b[0m\u001b[0;34m(\u001b[0m\u001b[0mself\u001b[0m\u001b[0;34m)\u001b[0m\u001b[0;34m:\u001b[0m\u001b[0;34m\u001b[0m\u001b[0;34m\u001b[0m\u001b[0m\n\u001b[1;32m     20\u001b[0m     \u001b[0mUNIX\u001b[0m \u001b[0;34m=\u001b[0m \u001b[0;34m[\u001b[0m\u001b[0;34m\"macOS\"\u001b[0m\u001b[0;34m,\u001b[0m \u001b[0;34m\"Ubuntu\"\u001b[0m\u001b[0;34m,\u001b[0m \u001b[0;34m\"iOS\"\u001b[0m\u001b[0;34m,\u001b[0m \u001b[0;34m\"Android\"\u001b[0m\u001b[0;34m]\u001b[0m\u001b[0;34m\u001b[0m\u001b[0;34m\u001b[0m\u001b[0m\n\u001b[0;32m---> 21\u001b[0;31m     \u001b[0;32mif\u001b[0m \u001b[0mself\u001b[0m\u001b[0;34m.\u001b[0m\u001b[0mos\u001b[0m \u001b[0;32min\u001b[0m \u001b[0mUNIX\u001b[0m \u001b[0;34m:\u001b[0m\u001b[0;34m\u001b[0m\u001b[0;34m\u001b[0m\u001b[0m\n\u001b[0m\u001b[1;32m     22\u001b[0m       \u001b[0;32mreturn\u001b[0m \u001b[0;32mTrue\u001b[0m\u001b[0;34m\u001b[0m\u001b[0;34m\u001b[0m\u001b[0m\n\u001b[1;32m     23\u001b[0m     \u001b[0;32melse\u001b[0m\u001b[0;34m:\u001b[0m\u001b[0;34m\u001b[0m\u001b[0;34m\u001b[0m\u001b[0m\n",
            "\u001b[0;31mAttributeError\u001b[0m: 'Lenovo' object has no attribute 'os'"
          ]
        }
      ]
    }
  ]
}